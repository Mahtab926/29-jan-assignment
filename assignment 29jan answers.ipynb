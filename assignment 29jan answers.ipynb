{
 "cells": [
  {
   "cell_type": "code",
   "execution_count": null,
   "id": "8952bbfd-f8a0-4a9e-abf1-2aca44f47327",
   "metadata": {},
   "outputs": [],
   "source": [
    "Answer 1\n",
    "Guido van Rossum.\n",
    "\n",
    "Answer 2\n",
    "python is multi-paradigm programming language. Object oriented programming and strtured programming are fully supported,many of their features support functional programming and aspect oriented programming(including metaprogramming and metaobjects)\n",
    "\n",
    "Answer 3\n",
    "yes\n",
    "\n",
    "Answer 4\n",
    ".py extension\n",
    "\n",
    "Answer 5\n",
    "yes\n",
    "\n",
    "Answer 6\n",
    "indentation,Braces{}\n",
    "\n",
    "Answer 7\n",
    "#\n",
    "\n",
    "Answer 8\n",
    "python --version\n",
    "\n",
    "Answer 9\n",
    "lambda\n",
    "\n",
    "Answer 10\n",
    "Preferred Installer Program\n",
    "\n",
    "Answer 11\n",
    "print(),type(),input(),abs(),sorted()\n",
    "\n",
    "Answer 12\n",
    "79 characters\n",
    "\n",
    "Answer 13\n",
    "data science,web develpoment,finance and trading,computer graphics\n",
    "\n",
    "Answer 14\n",
    "Python involves a private heap containing all python objects and data structure.\n",
    "\n",
    "Answer 15\n",
    "Right-clicking This PC and going to Properties.\n",
    "\n",
    "Clicking on the Advanced system settings in the menu on the left.\n",
    "\n",
    "Clicking on the Environment Variables button o​n the bottom right.\n",
    "\n",
    "In the System variables section, selecting the Path variable and clicking on Edit. The next screen will show all the directories that are currently a part of the PATH variable.\n",
    "\n",
    "Clicking on New and entering Python’s install directory.\n",
    "\n",
    "Answer 16\n",
    "yes"
   ]
  }
 ],
 "metadata": {
  "kernelspec": {
   "display_name": "Python 3 (ipykernel)",
   "language": "python",
   "name": "python3"
  },
  "language_info": {
   "codemirror_mode": {
    "name": "ipython",
    "version": 3
   },
   "file_extension": ".py",
   "mimetype": "text/x-python",
   "name": "python",
   "nbconvert_exporter": "python",
   "pygments_lexer": "ipython3",
   "version": "3.10.8"
  }
 },
 "nbformat": 4,
 "nbformat_minor": 5
}
